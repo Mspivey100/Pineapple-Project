{
 "cells": [
  {
   "cell_type": "code",
   "execution_count": 26,
   "metadata": {},
   "outputs": [],
   "source": [
    "import pandas as pd\n",
    "import json\n",
    "from confiy import api_key\n",
    "import requests\n",
    "from pprint import pprint"
   ]
  },
  {
   "cell_type": "code",
   "execution_count": 53,
   "metadata": {},
   "outputs": [],
   "source": [
    "#reading in injury data\n",
    "injury_file=\"injuries.csv\"\n",
    "#making it into a dataframe\n",
    "injury_df=pd.read_csv(injury_file)\n",
    "#dropping acquired column becuase it only shows when players came back\n",
    "dropAcquired_df=injury_df.drop(columns=['Acquired'])\n",
    "#droping rows left over from acquired column\n",
    "player_injury_df=dropAcquired_df.dropna(how='any')\n",
    "player_injury_df\n",
    "#renaming relinquised to name\n",
    "player_injury_df2=player_injury_df.rename(columns={'Relinquised':'name'})\n",
    "player_injury_df2\n",
    "\n",
    "#reading in player data\n",
    "Player_file='player_data.csv'\n",
    "player_df=pd.read_csv(Player_file)\n",
    "player_df['name'].tolist()\n",
    "# setting names equal to each other\n",
    "for index,player in player_injury_df2.iterrows():\n",
    "     name_cand=player['name'].split('/')\n",
    "     for cand in name_cand:\n",
    "         real_name = cand.strip()\n",
    "         if real_name in player_df['name'].tolist():\n",
    "             player_injury_df2.at[index,'name']=real_name\n",
    "             #print(f'{player_injury_df2.at[index,\"name\"]}')\n",
    "             break\n",
    "         #else:\n",
    "            #print('did not find real name: '+ real_name)\n",
    "            \n",
    "\n",
    "\n",
    "merge_table=pd.merge(player_injury_df2,player_df,on='name',how='left')\n",
    "nba_injury_df=merge_table.dropna(how='any')\n",
    "nba_injury_df.to_csv('nba_hurt.csv',index=False,header=True)\n",
    "\n",
    "\n",
    "\n",
    "\n",
    "\n",
    "\n",
    "        \n",
    "\n",
    "\n",
    "    \n",
    "    "
   ]
  },
  {
   "cell_type": "code",
   "execution_count": 17,
   "metadata": {},
   "outputs": [
    {
     "data": {
      "text/plain": [
       "Team\n",
       "76ers           446\n",
       "Blazers         205\n",
       "Bobcats         177\n",
       "Bucks           462\n",
       "Bulls           298\n",
       "Cavaliers       387\n",
       "Celtics         324\n",
       "Clippers        283\n",
       "Grizzlies       324\n",
       "Hawks           294\n",
       "Heat            323\n",
       "Hornets         313\n",
       "Jazz            330\n",
       "Kings           302\n",
       "Knicks          349\n",
       "Lakers          408\n",
       "Magic           356\n",
       "Mavericks       260\n",
       "Nets            398\n",
       "Nuggets         388\n",
       "Pacers          216\n",
       "Pelicans        284\n",
       "Pistons         236\n",
       "Raptors         262\n",
       "Rockets         416\n",
       "Spurs           342\n",
       "Suns            219\n",
       "Thunder         127\n",
       "Timberwolves    409\n",
       "Warriors        296\n",
       "Wizards         346\n",
       "Name: Notes, dtype: int64"
      ]
     },
     "execution_count": 17,
     "metadata": {},
     "output_type": "execute_result"
    }
   ],
   "source": [
    "\n"
   ]
  },
  {
   "cell_type": "code",
   "execution_count": null,
   "metadata": {},
   "outputs": [],
   "source": []
  },
  {
   "cell_type": "code",
   "execution_count": null,
   "metadata": {},
   "outputs": [],
   "source": []
  }
 ],
 "metadata": {
  "kernelspec": {
   "display_name": "Python 3",
   "language": "python",
   "name": "python3"
  },
  "language_info": {
   "codemirror_mode": {
    "name": "ipython",
    "version": 3
   },
   "file_extension": ".py",
   "mimetype": "text/x-python",
   "name": "python",
   "nbconvert_exporter": "python",
   "pygments_lexer": "ipython3",
   "version": "3.7.3"
  }
 },
 "nbformat": 4,
 "nbformat_minor": 2
}
