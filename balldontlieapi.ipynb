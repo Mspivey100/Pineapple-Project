{
 "cells": [
  {
   "cell_type": "code",
   "execution_count": 7,
   "metadata": {},
   "outputs": [
    {
     "name": "stdout",
     "output_type": "stream",
     "text": [
      "{'data': [{'first_name': 'Kevin',\n",
      "           'height_feet': 6,\n",
      "           'height_inches': 10,\n",
      "           'id': 285,\n",
      "           'last_name': 'Love',\n",
      "           'position': 'F-C',\n",
      "           'team': {'abbreviation': 'CLE',\n",
      "                    'city': 'Cleveland',\n",
      "                    'conference': 'East',\n",
      "                    'division': 'Central',\n",
      "                    'full_name': 'Cleveland Cavaliers',\n",
      "                    'id': 6,\n",
      "                    'name': 'Cavaliers'},\n",
      "           'weight_pounds': 251}],\n",
      " 'meta': {'current_page': 1,\n",
      "          'next_page': None,\n",
      "          'per_page': 25,\n",
      "          'total_count': 1,\n",
      "          'total_pages': 1}}\n"
     ]
    }
   ],
   "source": [
    "import pandas as pd\n",
    "import json\n",
    "from confiy import api_key\n",
    "import requests\n",
    "from pprint import pprint\n",
    "\n",
    "\n",
    "request_url='https://www.balldontlie.io/api/v1/players?search=kevin Love'\n",
    "response=requests.get(request_url)\n",
    "response_json=response.json()\n",
    "Nba_hurt=[]\n",
    "player_data=response_json['data']\n",
    "for data in player_data:\n",
    "    Nba_hurt.append({\n",
    "            'Player':data['first_name'],\n",
    "            'Team':team_name,\n",
    "            'Position':player['position'],\n",
    "            'Injury info':player['injuries'],\n",
    "            'Player_ID':player['id']\n",
    "        })"
   ]
  },
  {
   "cell_type": "code",
   "execution_count": 17,
   "metadata": {},
   "outputs": [
    {
     "data": {
      "text/html": [
       "<div>\n",
       "<style scoped>\n",
       "    .dataframe tbody tr th:only-of-type {\n",
       "        vertical-align: middle;\n",
       "    }\n",
       "\n",
       "    .dataframe tbody tr th {\n",
       "        vertical-align: top;\n",
       "    }\n",
       "\n",
       "    .dataframe thead th {\n",
       "        text-align: right;\n",
       "    }\n",
       "</style>\n",
       "<table border=\"1\" class=\"dataframe\">\n",
       "  <thead>\n",
       "    <tr style=\"text-align: right;\">\n",
       "      <th></th>\n",
       "      <th>Number of injuries</th>\n",
       "    </tr>\n",
       "    <tr>\n",
       "      <th>Relinquised</th>\n",
       "      <th></th>\n",
       "    </tr>\n",
       "  </thead>\n",
       "  <tbody>\n",
       "    <tr>\n",
       "      <th>Kevin Love</th>\n",
       "      <td>78</td>\n",
       "    </tr>\n",
       "    <tr>\n",
       "      <th>Eric Gordon</th>\n",
       "      <td>68</td>\n",
       "    </tr>\n",
       "    <tr>\n",
       "      <th>Jason Smith</th>\n",
       "      <td>68</td>\n",
       "    </tr>\n",
       "    <tr>\n",
       "      <th>Jordan Farmar</th>\n",
       "      <td>62</td>\n",
       "    </tr>\n",
       "    <tr>\n",
       "      <th>Jameer Nelson</th>\n",
       "      <td>57</td>\n",
       "    </tr>\n",
       "  </tbody>\n",
       "</table>\n",
       "</div>"
      ],
      "text/plain": [
       "               Number of injuries\n",
       "Relinquised                      \n",
       "Kevin Love                     78\n",
       "Eric Gordon                    68\n",
       "Jason Smith                    68\n",
       "Jordan Farmar                  62\n",
       "Jameer Nelson                  57"
      ]
     },
     "execution_count": 17,
     "metadata": {},
     "output_type": "execute_result"
    }
   ],
   "source": [
    "injury_file=\"injuries.csv\"\n",
    "injury_df=pd.read_csv(injury_file,)\n",
    "injury_by_name=injury_df.groupby('Relinquised')\n",
    "injury_count=injury_by_name['Notes'].count()\n",
    "injuried_players=pd.DataFrame({\"Number of injuries\": injury_count})\n",
    "injuried_players.sort_values(by='Number of injuries',ascending=False).head()\n",
    "\n",
    "\n",
    "\n",
    "\n",
    "\n",
    "        \n",
    "\n",
    "\n",
    "    \n",
    "    "
   ]
  },
  {
   "cell_type": "code",
   "execution_count": null,
   "metadata": {},
   "outputs": [],
   "source": [
    "\n"
   ]
  },
  {
   "cell_type": "code",
   "execution_count": null,
   "metadata": {},
   "outputs": [],
   "source": []
  },
  {
   "cell_type": "code",
   "execution_count": null,
   "metadata": {},
   "outputs": [],
   "source": []
  }
 ],
 "metadata": {
  "kernelspec": {
   "display_name": "Python 3",
   "language": "python",
   "name": "python3"
  },
  "language_info": {
   "codemirror_mode": {
    "name": "ipython",
    "version": 3
   },
   "file_extension": ".py",
   "mimetype": "text/x-python",
   "name": "python",
   "nbconvert_exporter": "python",
   "pygments_lexer": "ipython3",
   "version": "3.7.3"
  }
 },
 "nbformat": 4,
 "nbformat_minor": 2
}
